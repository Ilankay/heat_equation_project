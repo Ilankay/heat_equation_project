{
 "cells": [
  {
   "cell_type": "markdown",
   "metadata": {},
   "source": [
    "# developing the heat equation into a numeric approximation\n",
    "\n",
    "$$\\frac{\\partial T}{\\partial t}=k\\frac{\\partial^{2}T}{\\partial x^{2}}$$\n",
    "\n",
    "$$\\lim_{dt\\rightarrow0}\\frac{T\\left(t+dt,x\\right)-T\\left(t,x\\right)}{dt}=k\\lim_{dx\\rightarrow0}\\frac{T\\left(x+dx,t\\right)-2T\\left(x,t\\right),T\\left(x-dx,t\\right)}{dx}$$\n",
    "\n",
    "## we will approximate\n",
    "$$dt\\approx0, dx\\approx0$$\n",
    "\n",
    "$$\\frac{T\\left(t+dt,x\\right)-T\\left(t,x\\right)}{dt}\\approx k\\frac{T\\left(t,x+dx\\right)-2T\\left(t,x\\right)+T\\left(t,x-dx\\right)}{dx^{2}}$$\n",
    "\n",
    "$$T\\left(t+dt,x\\right)\\approx k\\frac{\\left(T\\left(t,x+dx\\right)-2T\\left(t,x\\right)+T\\left(t,x-dx\\right)\\right)dt}{dx^{2}}+T\\left(t,x\\right)$$\n",
    "\n",
    "$$T\\left(t+dt,x\\right)\\approx k\\frac{\\left(\\left(T\\left(t,x+dx\\right)-T\\left(t,x\\right)\\right)-\\left(T\\left(t,x\\right)-T\\left(t,x-dx\\right)\\right)\\right)dt}{dx^{2}}+T\\left(t,x\\right)$$"
   ]
  },
  {
   "cell_type": "markdown",
   "source": [
    "## Basic Functions\n",
    "The following code contains the basic functions that will be used to simulate the heat equation."
   ],
   "metadata": {
    "collapsed": false
   }
  },
  {
   "cell_type": "code",
   "execution_count": 6,
   "metadata": {
    "ExecuteTime": {
     "end_time": "2024-05-14T09:25:37.681379500Z",
     "start_time": "2024-05-14T09:25:37.651737500Z"
    }
   },
   "outputs": [],
   "source": [
    "import numpy as np\n",
    "from matplotlib import pyplot as plt\n",
    "from matplotlib import animation\n",
    "import plotly.graph_objects as go\n",
    "\n",
    "\n",
    "length = 10\n",
    "dx=0.1\n",
    "k = 0.466\n",
    "t = 10000\n",
    "delta_t = 0.001\n",
    "\n",
    "\n",
    "def heat_equation(simulation:np.ndarray,t:int,x:int,k:float,delta_t:float)->float:\n",
    "    \"\"\" \n",
    "    function that accepts the location of a point in the rod and the time and returns it's temperature\n",
    "    dT/dt = k/2((T3-T2)-(T2-T1)) is the change in temperature\n",
    "    and then according to euler\n",
    "    T = dT/dt*delta_t+T2)\n",
    "    \"\"\"\n",
    "    T1=simulation[t,x-1]\n",
    "    T2=simulation[t,x]\n",
    "    T3=simulation[t,x+1]\n",
    "    # Here is the numerical approximation of the heat equation\n",
    "    derTemp = k*(((T3-T2)-(T2-T1))/dx**2) \n",
    "    return derTemp*delta_t+T2\n",
    "\n",
    "def heat_simulation(init_conditions:np.ndarray,p_amnt:float,k:float,t:float,delta_t:float):\n",
    "    \"\"\" this constructs the 1d heat simulation\n",
    "    \"\"\"\n",
    "    simulation = np.zeros(shape=(t,p_amnt))\n",
    "    simulation[0,0:p_amnt]=init_conditions\n",
    "    for i in range(1,t):\n",
    "        for j in range(1,p_amnt-1):\n",
    "            simulation[i,j]=heat_equation(simulation,i-1,j,k,delta_t)\n",
    "        simulation[i,p_amnt-1]=simulation[i,p_amnt-3]\n",
    "        simulation[i,0]=simulation[i,2]\n",
    "    return simulation"
   ]
  },
  {
   "cell_type": "markdown",
   "source": [
    "## Simulation"
   ],
   "metadata": {
    "collapsed": false
   }
  },
  {
   "cell_type": "code",
   "outputs": [
    {
     "data": {
      "text/plain": "array([[ 0.00000000e+00,  6.21696374e-02,  1.24098753e-01, ...,\n        -1.24098753e-01, -6.21696374e-02, -2.44929360e-16],\n       [ 1.24076379e-01,  6.21584291e-02,  1.24076379e-01, ...,\n        -1.24076379e-01, -6.21584291e-02, -1.24076379e-01],\n       [ 1.24054010e-01,  6.79291821e-02,  1.24054010e-01, ...,\n        -1.24054010e-01, -6.79291821e-02, -1.24054010e-01],\n       ...,\n       [ 5.40580603e-01,  5.40824271e-01,  5.40580603e-01, ...,\n        -5.40580603e-01, -5.40824271e-01, -5.40580603e-01],\n       [ 5.40557893e-01,  5.40801561e-01,  5.40557893e-01, ...,\n        -5.40557893e-01, -5.40801561e-01, -5.40557893e-01],\n       [ 5.40535182e-01,  5.40778851e-01,  5.40535182e-01, ...,\n        -5.40535182e-01, -5.40778851e-01, -5.40535182e-01]])"
     },
     "execution_count": 7,
     "metadata": {},
     "output_type": "execute_result"
    }
   ],
   "source": [
    "# Define grid\n",
    "x_values = np.linspace(0, length, int(length / dx) + 2)\n",
    "t_values = np.arange(0, t, 1)\n",
    "X, T = np.meshgrid(x_values, t_values)\n",
    "\n",
    "init_conditions = np.sin(2*np.pi / 10 * x_values)\n",
    "simulation = heat_simulation(init_conditions,len(x_values),k,t,delta_t)\n",
    "simulation"
   ],
   "metadata": {
    "collapsed": false,
    "ExecuteTime": {
     "end_time": "2024-05-14T09:25:39.703579Z",
     "start_time": "2024-05-14T09:25:37.685378900Z"
    }
   },
   "execution_count": 7
  },
  {
   "cell_type": "markdown",
   "source": [],
   "metadata": {
    "collapsed": false
   }
  },
  {
   "cell_type": "markdown",
   "source": [
    "## 3D Plotting of the Simulation\n",
    "Here we plot the simulation in 3D using plotly. The axes are the position on the rod, the time, and the temperature."
   ],
   "metadata": {
    "collapsed": false
   }
  },
  {
   "cell_type": "code",
   "outputs": [],
   "source": [
    "\n",
    "# Create figure\n",
    "fig = go.Figure(data=[go.Surface(x=X, y=T, z=simulation, colorscale='viridis')])\n",
    "\n",
    "# Update layout\n",
    "fig.update_layout(scene=dict(xaxis_title='Position',\n",
    "                             yaxis_title='Time',\n",
    "                             zaxis_title='Temperature'),\n",
    "                  title='Temperature Distribution Over Time',\n",
    "                  template='plotly_white')\n",
    "\n",
    "# Save as interactive HTML file\n",
    "fig.write_html('interactive_plot.html') "
   ],
   "metadata": {
    "collapsed": false,
    "ExecuteTime": {
     "end_time": "2024-05-14T09:25:42.957038Z",
     "start_time": "2024-05-14T09:25:39.706987800Z"
    }
   },
   "execution_count": 8
  },
  {
   "cell_type": "code",
   "outputs": [
    {
     "data": {
      "text/plain": "102"
     },
     "execution_count": 9,
     "metadata": {},
     "output_type": "execute_result"
    }
   ],
   "source": [
    "len(simulation[0])"
   ],
   "metadata": {
    "collapsed": false,
    "ExecuteTime": {
     "end_time": "2024-05-14T09:25:42.978239Z",
     "start_time": "2024-05-14T09:25:42.960031100Z"
    }
   },
   "execution_count": 9
  },
  {
   "cell_type": "markdown",
   "source": [
    "## Animation of the Simulation\n",
    "Here we animate the simulation using matplotlib. The x-axis is the position on the rod, and the y-axis is the temperature."
   ],
   "metadata": {
    "collapsed": false
   }
  },
  {
   "cell_type": "code",
   "execution_count": 12,
   "metadata": {
    "ExecuteTime": {
     "end_time": "2024-05-14T09:35:09.443057800Z",
     "start_time": "2024-05-14T09:34:37.012692700Z"
    }
   },
   "outputs": [
    {
     "data": {
      "text/plain": "<Figure size 640x480 with 1 Axes>",
      "image/png": "[encoded data removed]"
     },
     "metadata": {},
     "output_type": "display_data"
    }
   ],
   "source": [
    "# Downsample frames (e.g., use every 5th frame)\n",
    "downsample_factor = 50\n",
    "downsampled_simulation = simulation[::downsample_factor]\n",
    "downsampled_t_values = t_values[::downsample_factor]\n",
    "\n",
    "# Function to update the plot for each frame of the animation\n",
    "def update(frame):\n",
    "    line.set_ydata(downsampled_simulation[frame])\n",
    "    return line,\n",
    "\n",
    "# Initialize the plot\n",
    "fig, ax = plt.subplots()\n",
    "line, = ax.plot(x_values, downsampled_simulation[0], color='blue')\n",
    "\n",
    "# Create the animation\n",
    "ani = animation.FuncAnimation(fig, update, frames=range(len(downsampled_t_values)), interval=10, blit=True)\n",
    "\n",
    "plt.xlabel('Position')\n",
    "plt.ylabel('Temperature')\n",
    "plt.title('Temperature Distribution Over Time')\n",
    "\n",
    "# Save the animation as an MP4 file with lower DPI\n",
    "ani.save('simulation_animation.mp4', writer='ffmpeg', dpi=200)"
   ]
  },
  {
   "cell_type": "code",
   "outputs": [],
   "source": [],
   "metadata": {
    "collapsed": false,
    "ExecuteTime": {
     "end_time": "2024-05-14T09:28:36.721018200Z",
     "start_time": "2024-05-14T09:28:36.233269100Z"
    }
   },
   "execution_count": 10
  }
 ],
 "metadata": {
  "kernelspec": {
   "display_name": ".venv",
   "language": "python",
   "name": "python3"
  },
  "language_info": {
   "codemirror_mode": {
    "name": "ipython",
    "version": 3
   },
   "file_extension": ".py",
   "mimetype": "text/x-python",
   "name": "python",
   "nbconvert_exporter": "python",
   "pygments_lexer": "ipython3",
   "version": "3.11.6"
  }
 },
 "nbformat": 4,
 "nbformat_minor": 2
}
