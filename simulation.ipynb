{
 "cells": [
  {
   "cell_type": "code",
   "execution_count": 70,
   "metadata": {},
   "outputs": [],
   "source": [
    "import numpy as np\n",
    "from matplotlib import pyplot as plt\n",
    "\n",
    "length = 100\n",
    "k = 0.466\n",
    "t = 9\n",
    "delta_t = 0.1\n",
    "\n",
    "\n",
    "def heat_equation(simulation:np.ndarray,t:int,x:int,k:float,delta_t:float)->float:\n",
    "    \"\"\" \n",
    "    function that accepts the location of a point in the rod and the time and returns it's temperature\n",
    "    dT/dt = k/2((T3-T2)-(T2-T1)) is the change in temperature\n",
    "    and then according to euler\n",
    "    T = dT/dt*delta_t+T2)\n",
    "    \"\"\"\n",
    "    T1=simulation[t,x-1]\n",
    "    T2=simulation[t,x]\n",
    "    T3=simulation[t,x+1]\n",
    "    derTemp = (k/2)*((T3-T2)-(T2-T1)) \n",
    "    return derTemp*delta_t+T2\n",
    "\n",
    "def heat_simulation(init_conditions:np.ndarray,length:float,k:float,t:float,delta_t:float):\n",
    "    \"\"\" this constructs the 1d heat simulation\n",
    "    \"\"\"\n",
    "    simulation = np.zeros(shape=(t,length+2))\n",
    "    simulation[0,1:length+1]=init_conditions\n",
    "    for i in range(1,t):\n",
    "        for j in range(1,length+1):\n",
    "            simulation[i,j]=heat_equation(simulation,i-1,j,k,delta_t)\n",
    "        simulation[i,length+1]=simulation[i,length-1]\n",
    "        simulation[i,0]=simulation[i,2]\n",
    "    return simulation\n",
    "\n",
    "init_conditions = np.zeros(length)\n",
    "init_conditions[5] = 10\n",
    "simulation = heat_simulation(init_conditions,length,k,t,delta_t)\n",
    "\n"
   ]
  },
  {
   "cell_type": "code",
   "execution_count": 76,
   "metadata": {},
   "outputs": [
    {
     "name": "stdout",
     "output_type": "stream",
     "text": [
      "[1.37343971e-07 1.40497577e-05 1.15013212e-03 4.71037785e-02\n",
      " 9.66007184e-01 7.97144957e+00 9.66007184e-01 4.71037785e-02\n",
      " 1.15013212e-03 1.40497577e-05]\n"
     ]
    },
    {
     "data": {
      "image/png": "[encoded data removed]",
      "text/plain": [
       "<Figure size 500x500 with 1 Axes>"
      ]
     },
     "metadata": {},
     "output_type": "display_data"
    }
   ],
   "source": [
    "fig,ax = plt.subplots(1,1,figsize=(5,5))\n",
    "ax=plt.plot(np.arange(1,101),simulation[8,1:101],\".\")\n",
    "#for index,gen in enumerate(simulation):\n",
    "#    ax[index]=plt.plot(np.arange(0,10),gen)\n",
    "print(simulation[5,1:11])"
   ]
  },
  {
   "cell_type": "code",
   "execution_count": null,
   "metadata": {},
   "outputs": [],
   "source": []
  }
 ],
 "metadata": {
  "kernelspec": {
   "display_name": ".venv",
   "language": "python",
   "name": "python3"
  },
  "language_info": {
   "codemirror_mode": {
    "name": "ipython",
    "version": 3
   },
   "file_extension": ".py",
   "mimetype": "text/x-python",
   "name": "python",
   "nbconvert_exporter": "python",
   "pygments_lexer": "ipython3",
   "version": "3.11.6"
  }
 },
 "nbformat": 4,
 "nbformat_minor": 2
}
